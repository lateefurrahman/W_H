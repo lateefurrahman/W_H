{
 "cells": [
  {
   "cell_type": "code",
   "execution_count": 37,
   "metadata": {},
   "outputs": [],
   "source": [
    "#matplotlib line\n",
    "import matplotlib.pyplot as plt\n",
    "import numpy as np\n",
    "import pandas as pd\n"
   ]
  },
  {
   "cell_type": "code",
   "execution_count": 39,
   "metadata": {},
   "outputs": [
    {
     "data": {
      "text/html": [
       "<div>\n",
       "<style scoped>\n",
       "    .dataframe tbody tr th:only-of-type {\n",
       "        vertical-align: middle;\n",
       "    }\n",
       "\n",
       "    .dataframe tbody tr th {\n",
       "        vertical-align: top;\n",
       "    }\n",
       "\n",
       "    .dataframe thead th {\n",
       "        text-align: right;\n",
       "    }\n",
       "</style>\n",
       "<table border=\"1\" class=\"dataframe\">\n",
       "  <thead>\n",
       "    <tr style=\"text-align: right;\">\n",
       "      <th></th>\n",
       "      <th>Gender</th>\n",
       "      <th>Height</th>\n",
       "      <th>Weight</th>\n",
       "    </tr>\n",
       "  </thead>\n",
       "  <tbody>\n",
       "    <tr>\n",
       "      <th>0</th>\n",
       "      <td>Male</td>\n",
       "      <td>5.2</td>\n",
       "      <td>50</td>\n",
       "    </tr>\n",
       "    <tr>\n",
       "      <th>1</th>\n",
       "      <td>Male</td>\n",
       "      <td>4.8</td>\n",
       "      <td>45</td>\n",
       "    </tr>\n",
       "    <tr>\n",
       "      <th>2</th>\n",
       "      <td>Male</td>\n",
       "      <td>6.0</td>\n",
       "      <td>75</td>\n",
       "    </tr>\n",
       "    <tr>\n",
       "      <th>3</th>\n",
       "      <td>Male</td>\n",
       "      <td>5.8</td>\n",
       "      <td>95</td>\n",
       "    </tr>\n",
       "    <tr>\n",
       "      <th>4</th>\n",
       "      <td>Male</td>\n",
       "      <td>6.5</td>\n",
       "      <td>80</td>\n",
       "    </tr>\n",
       "  </tbody>\n",
       "</table>\n",
       "</div>"
      ],
      "text/plain": [
       "  Gender  Height  Weight\n",
       "0   Male     5.2      50\n",
       "1   Male     4.8      45\n",
       "2   Male     6.0      75\n",
       "3   Male     5.8      95\n",
       "4   Male     6.5      80"
      ]
     },
     "execution_count": 39,
     "metadata": {},
     "output_type": "execute_result"
    }
   ],
   "source": [
    "df=pd.read_csv('C:\\\\Users\\\\Jalwa-TVC\\\\Desktop\\\\W-H.csv')\n",
    "df.head()"
   ]
  },
  {
   "cell_type": "code",
   "execution_count": 40,
   "metadata": {},
   "outputs": [],
   "source": [
    "x=df[['Height']].values\n",
    "y_true=df[['Weight']].values"
   ]
  },
  {
   "cell_type": "code",
   "execution_count": 41,
   "metadata": {},
   "outputs": [],
   "source": [
    "def line(x,w=0,b=0):\n",
    "    return w*x+b\n",
    "\n",
    "def mean_squared_error(y_true,y_pred):\n",
    "    s=(y_true-y_pred)**2\n",
    "    return np.sqrt(s.mean())"
   ]
  },
  {
   "cell_type": "code",
   "execution_count": 42,
   "metadata": {},
   "outputs": [
    {
     "data": {
      "text/plain": [
       "Text(0.5, 0, 'b')"
      ]
     },
     "execution_count": 42,
     "metadata": {},
     "output_type": "execute_result"
    },
    {
     "data": {
      "image/png": "[encoded data removed]",
      "text/plain": [
       "<Figure size 720x360 with 2 Axes>"
      ]
     },
     "metadata": {
      "needs_background": "light"
     },
     "output_type": "display_data"
    }
   ],
   "source": [
    "plt.figure(figsize=(10,5))\n",
    "axl=plt.subplot(121)\n",
    "df.plot(kind='scatter',\n",
    "       x='Height',\n",
    "       y='Weight',\n",
    "       title='Weight and Height in adults',ax=axl)\n",
    "bs=np.array([-100,-50,0,50,100,150])\n",
    "mses=[]\n",
    "for b in bs:\n",
    "    y_pred=line(x,w=2,b=b)\n",
    "    mse=mean_squared_error(y_true,y_pred)\n",
    "    mses.append(mse)\n",
    "    plt.plot(x,y_pred)\n",
    "    \n",
    "ax2=plt.subplot(122)\n",
    "plt.plot(bs,mses,'o-')\n",
    "plt.title('cost as a function of b')\n",
    "plt.xlabel('b')"
   ]
  },
  {
   "cell_type": "code",
   "execution_count": 17,
   "metadata": {},
   "outputs": [],
   "source": [
    "#liner Regression with keras\n"
   ]
  },
  {
   "cell_type": "code",
   "execution_count": 43,
   "metadata": {},
   "outputs": [],
   "source": [
    "from tensorflow.keras.models import Sequential\n",
    "from tensorflow.keras.layers import Dense\n",
    "from tensorflow.keras.optimizers import Adam,SGD\n",
    "\n",
    "#matplotlib line\n",
    "\n",
    "import matplotlib.pyplot as plt\n",
    "import numpy as np\n",
    "import pandas as pd\n"
   ]
  },
  {
   "cell_type": "code",
   "execution_count": 44,
   "metadata": {},
   "outputs": [],
   "source": [
    "x=df[['Height']].values\n",
    "y_true=df[['Weight']].values"
   ]
  },
  {
   "cell_type": "code",
   "execution_count": 45,
   "metadata": {},
   "outputs": [
    {
     "data": {
      "text/plain": [
       "array([[5.2],\n",
       "       [4.8],\n",
       "       [6. ],\n",
       "       [5.8],\n",
       "       [6.5],\n",
       "       [5.8]])"
      ]
     },
     "execution_count": 45,
     "metadata": {},
     "output_type": "execute_result"
    }
   ],
   "source": [
    "x"
   ]
  },
  {
   "cell_type": "code",
   "execution_count": 46,
   "metadata": {},
   "outputs": [
    {
     "data": {
      "text/plain": [
       "(6, 1)"
      ]
     },
     "execution_count": 46,
     "metadata": {},
     "output_type": "execute_result"
    }
   ],
   "source": [
    "x.shape"
   ]
  },
  {
   "cell_type": "code",
   "execution_count": 47,
   "metadata": {},
   "outputs": [],
   "source": [
    "model=Sequential()\n",
    "model.add(Dense(1,input_shape=(1,)))"
   ]
  },
  {
   "cell_type": "code",
   "execution_count": 48,
   "metadata": {},
   "outputs": [
    {
     "name": "stdout",
     "output_type": "stream",
     "text": [
      "Model: \"sequential_1\"\n",
      "_________________________________________________________________\n",
      "Layer (type)                 Output Shape              Param #   \n",
      "=================================================================\n",
      "dense_1 (Dense)              (None, 1)                 2         \n",
      "=================================================================\n",
      "Total params: 2\n",
      "Trainable params: 2\n",
      "Non-trainable params: 0\n",
      "_________________________________________________________________\n"
     ]
    }
   ],
   "source": [
    "model.summary()"
   ]
  },
  {
   "cell_type": "code",
   "execution_count": 49,
   "metadata": {},
   "outputs": [],
   "source": [
    "model.compile(Adam(lr=0.8),'mean_squared_error')"
   ]
  },
  {
   "cell_type": "code",
   "execution_count": 50,
   "metadata": {},
   "outputs": [
    {
     "name": "stdout",
     "output_type": "stream",
     "text": [
      "Train on 6 samples\n",
      "Epoch 1/40\n",
      "6/6 [==============================] - 0s 36ms/sample - loss: 5041.3687\n",
      "Epoch 2/40\n",
      "6/6 [==============================] - 0s 333us/sample - loss: 4327.8774\n",
      "Epoch 3/40\n",
      "6/6 [==============================] - 0s 2ms/sample - loss: 3673.7751\n",
      "Epoch 4/40\n",
      "6/6 [==============================] - 0s 500us/sample - loss: 3079.8826\n",
      "Epoch 5/40\n",
      "6/6 [==============================] - 0s 1ms/sample - loss: 2546.6726\n",
      "Epoch 6/40\n",
      "6/6 [==============================] - 0s 333us/sample - loss: 2074.1799\n",
      "Epoch 7/40\n",
      "6/6 [==============================] - 0s 1ms/sample - loss: 1661.9385\n",
      "Epoch 8/40\n",
      "6/6 [==============================] - 0s 833us/sample - loss: 1308.9056\n",
      "Epoch 9/40\n",
      "6/6 [==============================] - 0s 333us/sample - loss: 1013.3820\n",
      "Epoch 10/40\n",
      "6/6 [==============================] - 0s 333us/sample - loss: 772.9494\n",
      "Epoch 11/40\n",
      "6/6 [==============================] - 0s 1ms/sample - loss: 584.4246\n",
      "Epoch 12/40\n",
      "6/6 [==============================] - 0s 667us/sample - loss: 443.8428\n",
      "Epoch 13/40\n",
      "6/6 [==============================] - 0s 500us/sample - loss: 346.4795\n",
      "Epoch 14/40\n",
      "6/6 [==============================] - 0s 333us/sample - loss: 286.9269\n",
      "Epoch 15/40\n",
      "6/6 [==============================] - 0s 333us/sample - loss: 259.2283\n",
      "Epoch 16/40\n",
      "6/6 [==============================] - 0s 333us/sample - loss: 257.0700\n",
      "Epoch 17/40\n",
      "6/6 [==============================] - 0s 1ms/sample - loss: 274.0240\n",
      "Epoch 18/40\n",
      "6/6 [==============================] - 0s 333us/sample - loss: 303.8206\n",
      "Epoch 19/40\n",
      "6/6 [==============================] - 0s 333us/sample - loss: 340.6248\n",
      "Epoch 20/40\n",
      "6/6 [==============================] - 0s 167us/sample - loss: 379.2870\n",
      "Epoch 21/40\n",
      "6/6 [==============================] - 0s 333us/sample - loss: 415.5394\n",
      "Epoch 22/40\n",
      "6/6 [==============================] - 0s 500us/sample - loss: 446.1203\n",
      "Epoch 23/40\n",
      "6/6 [==============================] - 0s 333us/sample - loss: 468.8170\n",
      "Epoch 24/40\n",
      "6/6 [==============================] - 0s 833us/sample - loss: 482.4314\n",
      "Epoch 25/40\n",
      "6/6 [==============================] - 0s 333us/sample - loss: 486.6813\n",
      "Epoch 26/40\n",
      "6/6 [==============================] - 0s 2ms/sample - loss: 482.0561\n",
      "Epoch 27/40\n",
      "6/6 [==============================] - 0s 333us/sample - loss: 469.6440\n",
      "Epoch 28/40\n",
      "6/6 [==============================] - 0s 833us/sample - loss: 450.9506\n",
      "Epoch 29/40\n",
      "6/6 [==============================] - 0s 333us/sample - loss: 427.7219\n",
      "Epoch 30/40\n",
      "6/6 [==============================] - 0s 333us/sample - loss: 401.7832\n",
      "Epoch 31/40\n",
      "6/6 [==============================] - 0s 500us/sample - loss: 374.8994\n",
      "Epoch 32/40\n",
      "6/6 [==============================] - 0s 333us/sample - loss: 348.6637\n",
      "Epoch 33/40\n",
      "6/6 [==============================] - 0s 333us/sample - loss: 324.4131\n",
      "Epoch 34/40\n",
      "6/6 [==============================] - 0s 333us/sample - loss: 303.1732\n",
      "Epoch 35/40\n",
      "6/6 [==============================] - 0s 1ms/sample - loss: 285.6316\n",
      "Epoch 36/40\n",
      "6/6 [==============================] - 0s 833us/sample - loss: 272.1358\n",
      "Epoch 37/40\n",
      "6/6 [==============================] - 0s 500us/sample - loss: 262.7148\n",
      "Epoch 38/40\n",
      "6/6 [==============================] - 0s 333us/sample - loss: 257.1200\n",
      "Epoch 39/40\n",
      "6/6 [==============================] - 0s 667us/sample - loss: 254.8799\n",
      "Epoch 40/40\n",
      "6/6 [==============================] - 0s 167us/sample - loss: 255.3643\n"
     ]
    },
    {
     "data": {
      "text/plain": [
       "<tensorflow.python.keras.callbacks.History at 0x152493c8>"
      ]
     },
     "execution_count": 50,
     "metadata": {},
     "output_type": "execute_result"
    }
   ],
   "source": [
    "model.fit(x,y_true,epochs=40)"
   ]
  },
  {
   "cell_type": "code",
   "execution_count": 51,
   "metadata": {},
   "outputs": [],
   "source": [
    "y_pred=model.predict(x)"
   ]
  },
  {
   "cell_type": "code",
   "execution_count": 52,
   "metadata": {},
   "outputs": [
    {
     "data": {
      "text/plain": [
       "array([[59.52857 ],\n",
       "       [55.690506],\n",
       "       [67.2047  ],\n",
       "       [65.28567 ],\n",
       "       [72.00228 ],\n",
       "       [65.28567 ]], dtype=float32)"
      ]
     },
     "execution_count": 52,
     "metadata": {},
     "output_type": "execute_result"
    }
   ],
   "source": [
    "y_pred"
   ]
  },
  {
   "cell_type": "code",
   "execution_count": 53,
   "metadata": {},
   "outputs": [
    {
     "data": {
      "text/plain": [
       "[<matplotlib.lines.Line2D at 0x15dd26a0>]"
      ]
     },
     "execution_count": 53,
     "metadata": {},
     "output_type": "execute_result"
    },
    {
     "data": {
      "image/png": "[encoded data removed]",
      "text/plain": [
       "<Figure size 432x288 with 1 Axes>"
      ]
     },
     "metadata": {
      "needs_background": "light"
     },
     "output_type": "display_data"
    }
   ],
   "source": [
    "df.plot(kind='scatter',\n",
    "       x='Height',\n",
    "       y='Weight', \n",
    "        title='Weight and Height in adults')\n",
    "plt.plot(x,y_pred,color='red',linewidth=3)"
   ]
  },
  {
   "cell_type": "code",
   "execution_count": 54,
   "metadata": {},
   "outputs": [],
   "source": [
    "w,b=model.get_weights()"
   ]
  },
  {
   "cell_type": "code",
   "execution_count": 55,
   "metadata": {},
   "outputs": [
    {
     "data": {
      "text/plain": [
       "array([[9.5951605]], dtype=float32)"
      ]
     },
     "execution_count": 55,
     "metadata": {},
     "output_type": "execute_result"
    }
   ],
   "source": [
    "w"
   ]
  },
  {
   "cell_type": "code",
   "execution_count": 56,
   "metadata": {},
   "outputs": [
    {
     "data": {
      "text/plain": [
       "array([9.633737], dtype=float32)"
      ]
     },
     "execution_count": 56,
     "metadata": {},
     "output_type": "execute_result"
    }
   ],
   "source": [
    "b"
   ]
  },
  {
   "cell_type": "code",
   "execution_count": 57,
   "metadata": {},
   "outputs": [
    {
     "data": {
      "text/plain": [
       "array([[1928.6659]], dtype=float32)"
      ]
     },
     "execution_count": 57,
     "metadata": {},
     "output_type": "execute_result"
    }
   ],
   "source": [
    "model.predict([[200]])"
   ]
  },
  {
   "cell_type": "code",
   "execution_count": null,
   "metadata": {},
   "outputs": [],
   "source": []
  },
  {
   "cell_type": "code",
   "execution_count": null,
   "metadata": {},
   "outputs": [],
   "source": []
  }
 ],
 "metadata": {
  "kernelspec": {
   "display_name": "Python 3",
   "language": "python",
   "name": "python3"
  },
  "language_info": {
   "codemirror_mode": {
    "name": "ipython",
    "version": 3
   },
   "file_extension": ".py",
   "mimetype": "text/x-python",
   "name": "python",
   "nbconvert_exporter": "python",
   "pygments_lexer": "ipython3",
   "version": "3.7.3"
  }
 },
 "nbformat": 4,
 "nbformat_minor": 2
}
